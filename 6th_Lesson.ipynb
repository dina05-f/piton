{
 "cells": [
  {
   "cell_type": "code",
   "execution_count": 1,
   "id": "72253075",
   "metadata": {},
   "outputs": [
    {
     "name": "stdout",
     "output_type": "stream",
     "text": [
      "Введите корректные числа\n",
      "Блок try завершил выполнение\n",
      "Завершение программы\n",
      "Сумма: \n"
     ]
    }
   ],
   "source": [
    "num1=input(\"введите делитель \")\n",
    "num2=input(\"введите делимое  \")\n",
    "\n",
    "try:\n",
    "    num1=int(num1)\n",
    "    num2=int(num2)\n",
    "    num3=num1/num2\n",
    "    print(\"Результат деления:\", num3)\n",
    "    if num3<=5:\n",
    "        print(\"num3 меньше 5\")\n",
    "    elif num3>5 and num3<10:\n",
    "        print(\"num3 больше 5\")\n",
    "    else:\n",
    "        print(\"num3 больше или равно 10\")\n",
    "\n",
    "except:\n",
    "    print(\"Введите корректные числа\")\n",
    "\n",
    "finally:\n",
    "    print(\"Блок try завершил выполнение\")\n",
    "print(\"Завершение программы\")\n",
    "\n",
    "c=num1+num2\n",
    "print(\"Сумма:\",c)"
   ]
  },
  {
   "cell_type": "code",
   "execution_count": null,
   "id": "bf74920b",
   "metadata": {},
   "outputs": [],
   "source": [
    "num1=int(input(\"enter a num\"))\n",
    "if (num1%2)==0:\n",
    "    print(\"четное число\")\n",
    "else:\n",
    "    print(\"нечетное число\")"
   ]
  },
  {
   "cell_type": "code",
   "execution_count": null,
   "id": "ac68aff9",
   "metadata": {},
   "outputs": [],
   "source": [
    "#Логические выражения:\n",
    "# 1\n",
    "num1=int(input(\"enter a num:  \"))\n",
    "if (num1>=2):\n",
    "    print(\"Положительное число\")\n",
    "else:\n",
    "    print(\"Отрицательное число\")"
   ]
  },
  {
   "cell_type": "code",
   "execution_count": null,
   "id": "679d8eb8",
   "metadata": {},
   "outputs": [],
   "source": [
    "num1=int(input(\"enter a num:  \"))\n",
    "if (num1%2)==0:\n",
    "    print(\"true\")\n",
    "else:\n",
    "    print(\"False\")"
   ]
  },
  {
   "cell_type": "code",
   "execution_count": null,
   "id": "2b0a4592",
   "metadata": {},
   "outputs": [],
   "source": [
    "num1=int(input(\"enter a num:  \"))\n",
    "if (num1%2)!=0:\n",
    "    print(\"true\")\n",
    "else:\n",
    "    print(\"False\")"
   ]
  },
  {
   "cell_type": "code",
   "execution_count": null,
   "metadata": {},
   "outputs": [],
   "source": [
    "num1=int(input(\"enter a num:  \"))\n",
    "num2=int(input(\"enter a num:  \"))\n",
    "if (num1>2) and (num2<=3):\n",
    "    print(\"true\")\n",
    "else:\n",
    "    print(\"False\")"
   ]
  },
  {
   "cell_type": "code",
   "execution_count": null,
   "id": "898b6f68",
   "metadata": {},
   "outputs": [],
   "source": [
    "num1=int(input(\"enter a num:  \"))\n",
    "num2=int(input(\"enter a num:  \"))\n",
    "if (num1>=0) and (num2<-2):\n",
    "    print(\"true\")\n",
    "else:\n",
    "    print(\"False\")"
   ]
  },
  {
   "cell_type": "code",
   "execution_count": null,
   "id": "a9f99ecd",
   "metadata": {},
   "outputs": [],
   "source": [
    "#new lesson\n",
    "text3=\"lesson5\"\n",
    "new_text=text3.upper() #все с заглавными буквами\n",
    "print(new_text)"
   ]
  },
  {
   "cell_type": "code",
   "execution_count": null,
   "metadata": {},
   "outputs": [],
   "source": []
  },
  {
   "cell_type": "code",
   "execution_count": null,
   "id": "15476d43",
   "metadata": {},
   "outputs": [],
   "source": [
    "a=32\n",
    "b=3.5\n",
    "x=True\n",
    "\n",
    "a=str(a)\n",
    "b=str(b)\n",
    "x=str(x)"
   ]
  },
  {
   "cell_type": "code",
   "execution_count": null,
   "id": "2cb50486",
   "metadata": {},
   "outputs": [],
   "source": [
    "str_= input(\"Enter smth:  \")\n",
    "\n",
    "print(\"Hello my friend!\")"
   ]
  },
  {
   "cell_type": "code",
   "execution_count": null,
   "id": "64914e24",
   "metadata": {},
   "outputs": [],
   "source": [
    "text1=input(\"Write your name:   \")\n",
    "print(text1)\n",
    "text2=input(\"Write your name:   \")\n",
    "print(text2)\n"
   ]
  },
  {
   "cell_type": "code",
   "execution_count": null,
   "id": "110e4dec",
   "metadata": {},
   "outputs": [],
   "source": [
    "text1=input(\"Write your name:   \")\n",
    "print(text1)\n",
    "text2=input(\"Write your name:   \")\n",
    "print(text2)\n",
    "res=text1+' '+text2\n",
    "print(res)\n"
   ]
  },
  {
   "cell_type": "code",
   "execution_count": null,
   "id": "8c1f7c8f",
   "metadata": {},
   "outputs": [],
   "source": []
  },
  {
   "cell_type": "code",
   "execution_count": null,
   "id": "30ad1e7c",
   "metadata": {},
   "outputs": [],
   "source": []
  },
  {
   "cell_type": "code",
   "execution_count": null,
   "id": "5c056286",
   "metadata": {},
   "outputs": [],
   "source": []
  }
 ],
 "metadata": {
  "kernelspec": {
   "display_name": "Python 3",
   "language": "python",
   "name": "python3"
  },
  "language_info": {
   "codemirror_mode": {
    "name": "ipython",
    "version": 3
   },
   "file_extension": ".py",
   "mimetype": "text/x-python",
   "name": "python",
   "nbconvert_exporter": "python",
   "pygments_lexer": "ipython3",
   "version": "3.14.0"
  }
 },
 "nbformat": 4,
 "nbformat_minor": 5
}
