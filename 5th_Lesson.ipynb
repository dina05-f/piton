{
 "cells": [
  {
   "cell_type": "code",
   "execution_count": 3,
   "id": "ab25f5e7",
   "metadata": {},
   "outputs": [
    {
     "name": "stdout",
     "output_type": "stream",
     "text": [
      "sfdf\n"
     ]
    }
   ],
   "source": [
    "print('sfdf')"
   ]
  },
  {
   "cell_type": "code",
   "execution_count": null,
   "id": "cefbd4a8",
   "metadata": {},
   "outputs": [],
   "source": [
    "a=int(input(\"enter the number \"))\n",
    "if (a>0) or (a==5):\n",
    "    print(\"Positive\")\n",
    "elif a==0:\n",
    "    print(\"Zero\")\n",
    "else:\n",
    "    print(\"Negative\")\n"
   ]
  },
  {
   "cell_type": "code",
   "execution_count": null,
   "id": "60182ee0",
   "metadata": {},
   "outputs": [],
   "source": [
    "person=(input(\"status of the person \"))\n",
    "if person==\"student\" or person=='school 10th' or person==\"school 11th\":\n",
    "    Print(\"student>15years\")\n",
    "else:\n",
    "    print(\"student<15years\")"
   ]
  },
  {
   "cell_type": "code",
   "execution_count": null,
   "id": "72253075",
   "metadata": {},
   "outputs": [],
   "source": []
  },
  {
   "cell_type": "code",
   "execution_count": null,
   "id": "bf74920b",
   "metadata": {},
   "outputs": [],
   "source": []
  },
  {
   "cell_type": "code",
   "execution_count": null,
   "id": "ac68aff9",
   "metadata": {},
   "outputs": [],
   "source": []
  },
  {
   "cell_type": "code",
   "execution_count": null,
   "id": "15476d43",
   "metadata": {},
   "outputs": [],
   "source": []
  },
  {
   "cell_type": "code",
   "execution_count": null,
   "id": "2cb50486",
   "metadata": {},
   "outputs": [],
   "source": []
  }
 ],
 "metadata": {
  "kernelspec": {
   "display_name": "Python 3",
   "language": "python",
   "name": "python3"
  },
  "language_info": {
   "codemirror_mode": {
    "name": "ipython",
    "version": 3
   },
   "file_extension": ".py",
   "mimetype": "text/x-python",
   "name": "python",
   "nbconvert_exporter": "python",
   "pygments_lexer": "ipython3",
   "version": "3.14.0"
  }
 },
 "nbformat": 4,
 "nbformat_minor": 5
}
