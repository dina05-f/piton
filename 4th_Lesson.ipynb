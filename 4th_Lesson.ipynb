{
 "cells": [
  {
   "cell_type": "code",
   "execution_count": 6,
   "id": "2ac4de25",
   "metadata": {},
   "outputs": [],
   "source": [
    "import math as mt\n",
    "#import pandas"
   ]
  },
  {
   "cell_type": "code",
   "execution_count": 8,
   "id": "8cfc0334",
   "metadata": {},
   "outputs": [
    {
     "name": "stdout",
     "output_type": "stream",
     "text": [
      "6\n"
     ]
    }
   ],
   "source": [
    "num1=5.43\n",
    "print(math.ceil(num1))\n",
    "#print(mt.ceil(num1))"
   ]
  },
  {
   "cell_type": "code",
   "execution_count": 12,
   "id": "6d711cee",
   "metadata": {},
   "outputs": [
    {
     "name": "stdout",
     "output_type": "stream",
     "text": [
      "5.43\n"
     ]
    }
   ],
   "source": [
    "num2=5.43\n",
    "print(round(num2,2))"
   ]
  },
  {
   "cell_type": "code",
   "execution_count": 11,
   "id": "584dc125",
   "metadata": {},
   "outputs": [
    {
     "name": "stdout",
     "output_type": "stream",
     "text": [
      "5\n"
     ]
    }
   ],
   "source": [
    "num3=5.8\n",
    "print(mt.floor(num3))"
   ]
  },
  {
   "cell_type": "code",
   "execution_count": 13,
   "id": "06c9d7f2",
   "metadata": {},
   "outputs": [
    {
     "name": "stdout",
     "output_type": "stream",
     "text": [
      "0.5235987755982988\n"
     ]
    }
   ],
   "source": [
    "num4=4\n",
    "print(mt.radians(30))\n"
   ]
  },
  {
   "cell_type": "code",
   "execution_count": 14,
   "id": "e09837a9",
   "metadata": {},
   "outputs": [
    {
     "name": "stdout",
     "output_type": "stream",
     "text": [
      "29.999999999999996\n"
     ]
    }
   ],
   "source": [
    "num5=0.5235987755982988\n",
    "print(mt.degrees(num5))"
   ]
  },
  {
   "cell_type": "code",
   "execution_count": null,
   "id": "68fc98b1",
   "metadata": {},
   "outputs": [
    {
     "name": "stdout",
     "output_type": "stream",
     "text": [
      "27.0\n"
     ]
    }
   ],
   "source": [
    "num7=mt.pow(3,3) #число возводит в степень (аналог **)\n",
    "print(num7)"
   ]
  },
  {
   "cell_type": "code",
   "execution_count": 17,
   "id": "c2c4dacb",
   "metadata": {},
   "outputs": [
    {
     "name": "stdout",
     "output_type": "stream",
     "text": [
      "9.0\n"
     ]
    }
   ],
   "source": [
    "num8=mt.sqrt(81) # корень\n",
    "print(num8)"
   ]
  },
  {
   "cell_type": "code",
   "execution_count": null,
   "id": "a96a49b1",
   "metadata": {},
   "outputs": [],
   "source": [
    "name1, name2, name3= \"Sam\",\"Jack\",\"\""
   ]
  },
  {
   "cell_type": "code",
   "execution_count": 18,
   "id": "bec364c3",
   "metadata": {},
   "outputs": [
    {
     "name": "stdout",
     "output_type": "stream",
     "text": [
      "244\n"
     ]
    }
   ],
   "source": [
    "print(max(1,7,2,244,54))"
   ]
  },
  {
   "cell_type": "code",
   "execution_count": 20,
   "id": "4500e277",
   "metadata": {},
   "outputs": [
    {
     "name": "stdout",
     "output_type": "stream",
     "text": [
      "-32\n"
     ]
    }
   ],
   "source": [
    "print(min(-32,99,47,3,4))"
   ]
  },
  {
   "cell_type": "code",
   "execution_count": 23,
   "id": "51da6978",
   "metadata": {},
   "outputs": [
    {
     "data": {
      "text/plain": [
       "120"
      ]
     },
     "execution_count": 23,
     "metadata": {},
     "output_type": "execute_result"
    }
   ],
   "source": [
    "l=5\n",
    "w=4\n",
    "h=6\n",
    "l*w*h"
   ]
  },
  {
   "cell_type": "code",
   "execution_count": 24,
   "id": "a726dd39",
   "metadata": {},
   "outputs": [
    {
     "data": {
      "text/plain": [
       "65973.44572538565"
      ]
     },
     "execution_count": 24,
     "metadata": {},
     "output_type": "execute_result"
    }
   ],
   "source": [
    "r=30\n",
    "h=70\n",
    "(mt.pi*r**2*h)/3"
   ]
  },
  {
   "cell_type": "code",
   "execution_count": 25,
   "id": "06ddf96f",
   "metadata": {},
   "outputs": [
    {
     "data": {
      "text/plain": [
       "593761.0115284708"
      ]
     },
     "execution_count": 25,
     "metadata": {},
     "output_type": "execute_result"
    }
   ],
   "source": [
    "r=45\n",
    "(4/3)*mt.pi*r**2*h"
   ]
  },
  {
   "cell_type": "code",
   "execution_count": 26,
   "id": "e9c2064c",
   "metadata": {},
   "outputs": [
    {
     "data": {
      "text/plain": [
       "14137.166941154068"
      ]
     },
     "execution_count": 26,
     "metadata": {},
     "output_type": "execute_result"
    }
   ],
   "source": [
    "r=15\n",
    "(4/3)*mt.pi*r**3"
   ]
  },
  {
   "cell_type": "code",
   "execution_count": 31,
   "id": "6a92c1f5",
   "metadata": {},
   "outputs": [
    {
     "name": "stdout",
     "output_type": "stream",
     "text": [
      "[2]\n"
     ]
    }
   ],
   "source": [
    "numbers=[1,2,3,4,5]\n",
    "\n",
    "name_list=[numbers[1]]\n",
    "print(name_list)"
   ]
  },
  {
   "cell_type": "code",
   "execution_count": 33,
   "id": "0dce62b2",
   "metadata": {},
   "outputs": [
    {
     "name": "stdout",
     "output_type": "stream",
     "text": [
      "['Sam', 'Sam', 'Sam', 'Sam', 'Sam', 'Sam', 'Sam', 'Sam', 'Sam', 'Sam']\n"
     ]
    }
   ],
   "source": [
    "people=[\"Tom\", \"Sam\", \"Jack\", \"Lil\"]\n",
    "name_list=[people[1]]*10\n",
    "print(name_list)"
   ]
  },
  {
   "cell_type": "code",
   "execution_count": 42,
   "id": "92452571",
   "metadata": {},
   "outputs": [
    {
     "data": {
      "text/plain": [
       "4"
      ]
     },
     "execution_count": 42,
     "metadata": {},
     "output_type": "execute_result"
    }
   ],
   "source": [
    "people=[\"Tom\", \"Sam\", \"Jack\", \"Lil\"]\n",
    "name_list=[people[1]]*10\n",
    "name_list=[people[0]]*10\n",
    "people\n",
    "people[0]=\"Bob\"\n",
    "people[-1]=500\n",
    "len(people) #длина списка(кол-во элементов)"
   ]
  },
  {
   "cell_type": "code",
   "execution_count": null,
   "id": "d3c90828",
   "metadata": {},
   "outputs": [
    {
     "name": "stdout",
     "output_type": "stream",
     "text": [
      "5\n"
     ]
    },
    {
     "data": {
      "text/plain": [
       "6"
      ]
     },
     "execution_count": 48,
     "metadata": {},
     "output_type": "execute_result"
    }
   ],
   "source": [
    "student1=[\"Tom\", \"Sam\", \"Jack\", \"Lil\", \"Bill\"]\n",
    "print(len(student1))\n",
    "student1.append(\"Lolo\") #добавление\n",
    "len(student1)"
   ]
  },
  {
   "cell_type": "code",
   "execution_count": null,
   "id": "a3a72284",
   "metadata": {},
   "outputs": [
    {
     "data": {
      "text/plain": [
       "['Tom', 'Sam', 'Jack', 'Lil', 'Bill']"
      ]
     },
     "execution_count": 46,
     "metadata": {},
     "output_type": "execute_result"
    }
   ],
   "source": [
    "names2=student1[:] #:это означает с 0 до конца\n",
    "names2"
   ]
  },
  {
   "cell_type": "code",
   "execution_count": 49,
   "id": "d9b2c3da",
   "metadata": {},
   "outputs": [
    {
     "name": "stdout",
     "output_type": "stream",
     "text": [
      "['Bill', 'Lil', 'Jack', 'Sam', 'Tom']\n"
     ]
    }
   ],
   "source": [
    "name3=student1[-2:]\n",
    "names2.reverse() #с обратной стороны указывает = [::2]\n",
    "print(names2)\n"
   ]
  },
  {
   "cell_type": "code",
   "execution_count": 50,
   "id": "9520bd2c",
   "metadata": {},
   "outputs": [
    {
     "data": {
      "text/plain": [
       "['Tom', 'Jack', 'Bill']"
      ]
     },
     "execution_count": 50,
     "metadata": {},
     "output_type": "execute_result"
    }
   ],
   "source": [
    "names2=student1[0:5:2] #jn 0 до 5 с шагом в 2\n",
    "names2"
   ]
  },
  {
   "cell_type": "code",
   "execution_count": 54,
   "id": "609ce98a",
   "metadata": {},
   "outputs": [
    {
     "data": {
      "text/plain": [
       "['Tom', 'Sam', 'Jack', 'Lil', 'Tom', 'Sam']"
      ]
     },
     "execution_count": 54,
     "metadata": {},
     "output_type": "execute_result"
    }
   ],
   "source": [
    "student1[4:]=student1[0:2]\n",
    "student1\n",
    "#student1.append(\"Lolo\")"
   ]
  },
  {
   "cell_type": "code",
   "execution_count": 55,
   "id": "b7383232",
   "metadata": {},
   "outputs": [
    {
     "ename": "TypeError",
     "evalue": "insert expected 2 arguments, got 1",
     "output_type": "error",
     "traceback": [
      "\u001b[31m---------------------------------------------------------------------------\u001b[39m",
      "\u001b[31mTypeError\u001b[39m                                 Traceback (most recent call last)",
      "\u001b[36mCell\u001b[39m\u001b[36m \u001b[39m\u001b[32mIn[55]\u001b[39m\u001b[32m, line 3\u001b[39m\n\u001b[32m      1\u001b[39m student1=[\u001b[33m\"\u001b[39m\u001b[33mTom\u001b[39m\u001b[33m\"\u001b[39m, \u001b[33m\"\u001b[39m\u001b[33mSam\u001b[39m\u001b[33m\"\u001b[39m, \u001b[33m\"\u001b[39m\u001b[33mJack\u001b[39m\u001b[33m\"\u001b[39m, \u001b[33m\"\u001b[39m\u001b[33mLil\u001b[39m\u001b[33m\"\u001b[39m, \u001b[33m\"\u001b[39m\u001b[33mBill\u001b[39m\u001b[33m\"\u001b[39m]\n\u001b[32m      2\u001b[39m student2=[\u001b[33m\"\u001b[39m\u001b[33mAlex\u001b[39m\u001b[33m\"\u001b[39m, \u001b[33m\"\u001b[39m\u001b[33mSara\u001b[39m\u001b[33m\"\u001b[39m, \u001b[33m\"\u001b[39m\u001b[33mJony\u001b[39m\u001b[33m\"\u001b[39m]\n\u001b[32m----> \u001b[39m\u001b[32m3\u001b[39m \u001b[43mstudent1\u001b[49m\u001b[43m.\u001b[49m\u001b[43minsert\u001b[49m\u001b[43m(\u001b[49m\u001b[43mstudent2\u001b[49m\u001b[43m)\u001b[49m\n",
      "\u001b[31mTypeError\u001b[39m: insert expected 2 arguments, got 1"
     ]
    }
   ],
   "source": [
    "student1=[\"Tom\", \"Sam\", \"Jack\", \"Lil\", \"Bill\"]\n",
    "student2=[\"Alex\", \"Sara\", \"Jony\"]\n",
    "student1.insert(student2)"
   ]
  },
  {
   "cell_type": "code",
   "execution_count": 66,
   "id": "bd692981",
   "metadata": {},
   "outputs": [],
   "source": [
    "student1=[\"Tom\", \"Sam\", \"Jack\", \"Lil\", \"Bill\"]\n",
    "student2=[\"Alex\", \"Sara\", \"Jony\"]\n",
    "student2.extend(student1) #обьединяет"
   ]
  },
  {
   "cell_type": "code",
   "execution_count": 65,
   "id": "8d53619a",
   "metadata": {},
   "outputs": [],
   "source": [
    "student1=[\"Tom\", \"Sam\", \"Jack\", \"Lil\", \"Bill\"]\n",
    "student1.clear() #очищает"
   ]
  },
  {
   "cell_type": "code",
   "execution_count": 71,
   "id": "63bec6ad",
   "metadata": {},
   "outputs": [
    {
     "name": "stdout",
     "output_type": "stream",
     "text": [
      "3\n"
     ]
    }
   ],
   "source": [
    "student1=[\"Tom\", \"Sam\", \"Jack\", \"Lil\", \"Bill\"]\n",
    "Lil_index=student1.index(\"Lil\")\n",
    "print(Lil_index)"
   ]
  },
  {
   "cell_type": "code",
   "execution_count": null,
   "id": "1b8ac2d9",
   "metadata": {},
   "outputs": [],
   "source": []
  }
 ],
 "metadata": {
  "kernelspec": {
   "display_name": "Python 3",
   "language": "python",
   "name": "python3"
  },
  "language_info": {
   "codemirror_mode": {
    "name": "ipython",
    "version": 3
   },
   "file_extension": ".py",
   "mimetype": "text/x-python",
   "name": "python",
   "nbconvert_exporter": "python",
   "pygments_lexer": "ipython3",
   "version": "3.14.0"
  }
 },
 "nbformat": 4,
 "nbformat_minor": 5
}
